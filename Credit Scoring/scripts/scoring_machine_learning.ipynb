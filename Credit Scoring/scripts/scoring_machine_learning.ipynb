{
 "cells": [
  {
   "cell_type": "code",
   "execution_count": 2,
   "id": "ce189e70-8e3d-4d43-bf46-31c16977000d",
   "metadata": {},
   "outputs": [],
   "source": [
    "import os\n",
    "import pandas as pd\n",
    "import numpy as np"
   ]
  },
  {
   "cell_type": "code",
   "execution_count": 3,
   "id": "4b5ae66c-0288-47da-8336-32d3f4b9367f",
   "metadata": {},
   "outputs": [],
   "source": [
    "import os\n",
    "import pandas as pd\n",
    "\n",
    "# Move up one level from 'scripts/' and access 'data/'\n",
    "file_path = os.path.join(\"..\", \"data\", \"AER_credit_card_data.csv\")\n",
    "\n",
    "df = pd.read_csv(file_path)"
   ]
  },
  {
   "cell_type": "markdown",
   "id": "bee806ba-8d2c-4f27-a11f-45b744828bd1",
   "metadata": {},
   "source": [
    "### Why logistic regression"
   ]
  },
  {
   "cell_type": "markdown",
   "id": "d7ee7941-e555-4be2-8086-8f86479250c9",
   "metadata": {},
   "source": [
    "Used for binary classification (e.g., default vs. no default). \n",
    "\n",
    "Predicts a class (0 or 1) based on a probability threshold (e.g., 0.5).\n",
    "\n",
    "Can interpret feature importance of the coefficients supplied and handles non-linear relationships"
   ]
  },
  {
   "cell_type": "markdown",
   "id": "033551d9-1bca-4cb1-a727-d05badbf513c",
   "metadata": {},
   "source": [
    "## Clean the data and run logisitic regression"
   ]
  },
  {
   "cell_type": "code",
   "execution_count": 7,
   "id": "01eca3d9-8596-4936-98f6-9d827879ecd9",
   "metadata": {},
   "outputs": [
    {
     "name": "stdout",
     "output_type": "stream",
     "text": [
      "Model Accuracy: 0.91\n",
      "Classification Report:\n",
      "               precision    recall  f1-score   support\n",
      "\n",
      "           0       0.91      1.00      0.95       187\n",
      "           1       0.00      0.00      0.00        18\n",
      "\n",
      "    accuracy                           0.91       205\n",
      "   macro avg       0.46      0.50      0.48       205\n",
      "weighted avg       0.83      0.91      0.87       205\n",
      "\n",
      "\n",
      "Feature Importance (Positive = Higher Default Risk, Negative = Lower Default Risk):\n",
      "       Feature  Coefficient\n",
      "9       active     0.675373\n",
      "7       months     0.365648\n",
      "1       income     0.356722\n",
      "2        share     0.271028\n",
      "5      selfemp     0.253933\n",
      "0          age    -0.050304\n",
      "3  expenditure    -0.091003\n",
      "8   majorcards    -0.096047\n",
      "6   dependents    -0.245298\n",
      "4        owner    -0.545164\n"
     ]
    },
    {
     "name": "stderr",
     "output_type": "stream",
     "text": [
      "C:\\ProgramData\\anaconda3\\Lib\\site-packages\\sklearn\\metrics\\_classification.py:1531: UndefinedMetricWarning: Precision is ill-defined and being set to 0.0 in labels with no predicted samples. Use `zero_division` parameter to control this behavior.\n",
      "  _warn_prf(average, modifier, f\"{metric.capitalize()} is\", len(result))\n",
      "C:\\ProgramData\\anaconda3\\Lib\\site-packages\\sklearn\\metrics\\_classification.py:1531: UndefinedMetricWarning: Precision is ill-defined and being set to 0.0 in labels with no predicted samples. Use `zero_division` parameter to control this behavior.\n",
      "  _warn_prf(average, modifier, f\"{metric.capitalize()} is\", len(result))\n",
      "C:\\ProgramData\\anaconda3\\Lib\\site-packages\\sklearn\\metrics\\_classification.py:1531: UndefinedMetricWarning: Precision is ill-defined and being set to 0.0 in labels with no predicted samples. Use `zero_division` parameter to control this behavior.\n",
      "  _warn_prf(average, modifier, f\"{metric.capitalize()} is\", len(result))\n"
     ]
    }
   ],
   "source": [
    "# Import necessary libraries\n",
    "import pandas as pd\n",
    "import numpy as np\n",
    "from sklearn.model_selection import train_test_split\n",
    "from sklearn.preprocessing import StandardScaler\n",
    "from sklearn.linear_model import LogisticRegression\n",
    "from sklearn.metrics import accuracy_score, classification_report\n",
    "\n",
    "# ---------------- STEP 1: Load and Prepare Data ---------------- #\n",
    "\n",
    "# Load the dataset (replace with actual file path)\n",
    "import os\n",
    "\n",
    "# Using a relative path (assuming script is in 'scripts/' and data is in 'data/')\n",
    "file_path = os.path.join(\"..\", \"data\", \"AER_credit_card_data.csv\")\n",
    "\n",
    "# Read the dataset\n",
    "df = pd.read_csv(file_path)\n",
    "\n",
    "# Convert categorical values ('yes' → 1, 'no' → 0) for model compatibility\n",
    "df['card'] = df['card'].map({'yes': 1, 'no': 0})      # Credit approval status\n",
    "df['owner'] = df['owner'].map({'yes': 1, 'no': 0})    # Homeownership\n",
    "df['selfemp'] = df['selfemp'].map({'yes': 1, 'no': 0}) # Self-employed status\n",
    "\n",
    "# Create the 'negative_reports' column (1 = default, 0 = no default)\n",
    "df['negative_reports'] = np.where(df['reports'] >= 1, 1, 0)\n",
    "\n",
    "# ---------------- STEP 2: Filter Only Approved Applications ---------------- #\n",
    "\n",
    "# We only want to build a credit scoring model for **approved applications**\n",
    "df_approved = df[df['card'] == 1].copy()  # Filter only accepted applications\n",
    "\n",
    "# Define the new target variable: whether the applicant defaulted\n",
    "df_approved['default'] = df_approved['negative_reports']  # 1 = Defaulted, 0 = No Default\n",
    "\n",
    "# Drop unnecessary columns ('card' and 'negative_reports' since they are redundant now)\n",
    "X = df_approved.drop(columns=['card', 'reports', 'negative_reports', 'default'])  \n",
    "y = df_approved['default']  # Target variable: default status\n",
    "\n",
    "# ---------------- STEP 3: Train-Test Split ---------------- #\n",
    "\n",
    "# Split the dataset into **training (80%) and testing (20%)** sets\n",
    "X_train, X_test, y_train, y_test = train_test_split(X, y, test_size=0.2, random_state=42)\n",
    "\n",
    "# ---------------- STEP 4: Standardizing Numerical Features ---------------- #\n",
    "\n",
    "# Identify binary (categorical) columns - We should **not** scale these\n",
    "binary_columns = ['owner', 'selfemp', 'majorcards']\n",
    "\n",
    "# Identify continuous columns to be scaled\n",
    "continuous_columns = [col for col in X.columns if col not in binary_columns]\n",
    "\n",
    "# Initialize the StandardScaler\n",
    "scaler = StandardScaler()\n",
    "\n",
    "# Scale only the continuous columns\n",
    "X_train_scaled = X_train.copy()\n",
    "X_test_scaled = X_test.copy()\n",
    "\n",
    "X_train_scaled[continuous_columns] = scaler.fit_transform(X_train[continuous_columns])\n",
    "X_test_scaled[continuous_columns] = scaler.transform(X_test[continuous_columns])\n",
    "\n",
    "# ---------------- STEP 5: Train the Logistic Regression Model ---------------- #\n",
    "\n",
    "# Initialize the logistic regression model\n",
    "model = LogisticRegression()\n",
    "\n",
    "# Train the model using the training dataset\n",
    "model.fit(X_train_scaled, y_train)\n",
    "\n",
    "# ---------------- STEP 6: Make Predictions ---------------- #\n",
    "\n",
    "# Use the trained model to predict default probabilities\n",
    "y_pred = model.predict(X_test_scaled)\n",
    "\n",
    "# ---------------- STEP 7: Evaluate Model Performance ---------------- #\n",
    "\n",
    "# Calculate accuracy of the model\n",
    "accuracy = accuracy_score(y_test, y_pred)\n",
    "\n",
    "# Get a classification report for detailed performance metrics\n",
    "classification_rep = classification_report(y_test, y_pred)\n",
    "\n",
    "# Print model evaluation results\n",
    "print(f\"Model Accuracy: {accuracy:.2f}\")\n",
    "print(\"Classification Report:\\n\", classification_rep)\n",
    "\n",
    "# ---------------- STEP 8: Understanding Feature Importance ---------------- #\n",
    "\n",
    "# Extract feature importance (coefficients) from logistic regression\n",
    "coefficients = pd.DataFrame({\n",
    "    \"Feature\": X.columns,\n",
    "    \"Coefficient\": model.coef_[0]\n",
    "}).sort_values(by=\"Coefficient\", ascending=False)\n",
    "\n",
    "# Display feature importance\n",
    "print(\"\\nFeature Importance (Positive = Higher Default Risk, Negative = Lower Default Risk):\")\n",
    "print(coefficients)\n"
   ]
  },
  {
   "cell_type": "markdown",
   "id": "17fbc165-a959-41e6-8e89-952c5acbe9d7",
   "metadata": {},
   "source": [
    "Feature importance shows that the number of active accounts has high correlation with eventual default status. \n",
    "\n",
    "Homeowners are significantly less likely to default based on this dataset."
   ]
  },
  {
   "cell_type": "markdown",
   "id": "b91a48c1-9d95-430b-b805-abcd6929be95",
   "metadata": {},
   "source": [
    "## Rerun Model with different variations to improve accuracy and recall"
   ]
  },
  {
   "cell_type": "code",
   "execution_count": 8,
   "id": "a177b8a9-6931-403e-8977-f29a7e6978f7",
   "metadata": {
    "scrolled": true
   },
   "outputs": [
    {
     "name": "stdout",
     "output_type": "stream",
     "text": [
      "Model Accuracy: 0.64\n",
      "Updated Classification Report:\n",
      "               precision    recall  f1-score   support\n",
      "\n",
      "           0       0.92      0.66      0.77       187\n",
      "           1       0.10      0.39      0.16        18\n",
      "\n",
      "    accuracy                           0.64       205\n",
      "   macro avg       0.51      0.53      0.46       205\n",
      "weighted avg       0.85      0.64      0.72       205\n",
      "\n"
     ]
    }
   ],
   "source": [
    "# Train logistic regression with class weighting\n",
    "model = LogisticRegression(class_weight='balanced')\n",
    "model.fit(X_train_scaled, y_train)\n",
    "\n",
    "# Make predictions again\n",
    "y_pred = model.predict(X_test_scaled)\n",
    "\n",
    "# Evaluate the updated model\n",
    "accuracy = accuracy_score(y_test, y_pred)\n",
    "classification_rep = classification_report(y_test, y_pred)\n",
    "\n",
    "print(f\"Model Accuracy: {accuracy:.2f}\")\n",
    "print(\"Updated Classification Report:\\n\", classification_rep)\n"
   ]
  },
  {
   "cell_type": "markdown",
   "id": "3cb0741a-1385-4c7b-a562-06f6df25d57b",
   "metadata": {},
   "source": [
    "## Oversample the default class"
   ]
  },
  {
   "cell_type": "code",
   "execution_count": 9,
   "id": "a5ba566d-662d-435b-bfae-38a1f4f92520",
   "metadata": {},
   "outputs": [
    {
     "name": "stdout",
     "output_type": "stream",
     "text": [
      "Model Accuracy: 0.63\n",
      "Classification Report after SMOTE:\n",
      "               precision    recall  f1-score   support\n",
      "\n",
      "           0       0.92      0.66      0.77       187\n",
      "           1       0.10      0.39      0.16        18\n",
      "\n",
      "    accuracy                           0.63       205\n",
      "   macro avg       0.51      0.52      0.46       205\n",
      "weighted avg       0.85      0.63      0.71       205\n",
      "\n"
     ]
    }
   ],
   "source": [
    "from imblearn.over_sampling import SMOTE\n",
    "\n",
    "# Apply SMOTE to balance classes\n",
    "smote = SMOTE(sampling_strategy='auto', random_state=42)\n",
    "X_train_resampled, y_train_resampled = smote.fit_resample(X_train_scaled, y_train)\n",
    "\n",
    "# Train logistic regression on resampled data\n",
    "model = LogisticRegression()\n",
    "model.fit(X_train_resampled, y_train_resampled)\n",
    "\n",
    "# Make predictions\n",
    "y_pred = model.predict(X_test_scaled)\n",
    "\n",
    "# Evaluate again\n",
    "accuracy = accuracy_score(y_test, y_pred)\n",
    "classification_rep = classification_report(y_test, y_pred)\n",
    "\n",
    "print(f\"Model Accuracy: {accuracy:.2f}\")\n",
    "print(\"Classification Report after SMOTE:\\n\", classification_rep)\n"
   ]
  },
  {
   "cell_type": "markdown",
   "id": "8e1d7b41-f0e5-4ba4-b53c-b393450c082f",
   "metadata": {},
   "source": [
    "# Run a random forest model"
   ]
  },
  {
   "cell_type": "code",
   "execution_count": 10,
   "id": "f31e43ee-8383-4a1b-987c-1458f13e863e",
   "metadata": {},
   "outputs": [
    {
     "name": "stdout",
     "output_type": "stream",
     "text": [
      "Random Forest Accuracy: 0.82\n",
      "Random Forest Classification Report:\n",
      "               precision    recall  f1-score   support\n",
      "\n",
      "           0       0.92      0.88      0.90       187\n",
      "           1       0.12      0.17      0.14        18\n",
      "\n",
      "    accuracy                           0.82       205\n",
      "   macro avg       0.52      0.52      0.52       205\n",
      "weighted avg       0.85      0.82      0.83       205\n",
      "\n"
     ]
    }
   ],
   "source": [
    "from sklearn.ensemble import RandomForestClassifier\n",
    "\n",
    "# Train a Random Forest model\n",
    "rf_model = RandomForestClassifier(n_estimators=100, class_weight=\"balanced\", random_state=42)\n",
    "rf_model.fit(X_train_resampled, y_train_resampled)\n",
    "\n",
    "# Make predictions\n",
    "y_pred_rf = rf_model.predict(X_test_scaled)\n",
    "\n",
    "# Evaluate Random Forest\n",
    "accuracy_rf = accuracy_score(y_test, y_pred_rf)\n",
    "classification_rep_rf = classification_report(y_test, y_pred_rf)\n",
    "\n",
    "print(f\"Random Forest Accuracy: {accuracy_rf:.2f}\")\n",
    "print(\"Random Forest Classification Report:\\n\", classification_rep_rf)\n",
    "\n"
   ]
  },
  {
   "cell_type": "code",
   "execution_count": 11,
   "id": "52e9c350-d71f-4e40-bced-4ec51d8dc1f6",
   "metadata": {},
   "outputs": [
    {
     "name": "stdout",
     "output_type": "stream",
     "text": [
      "Adjusted Threshold Accuracy: 0.44\n",
      "Classification Report after Threshold Adjustment:\n",
      "               precision    recall  f1-score   support\n",
      "\n",
      "           0       0.90      0.43      0.58       187\n",
      "           1       0.08      0.50      0.14        18\n",
      "\n",
      "    accuracy                           0.44       205\n",
      "   macro avg       0.49      0.47      0.36       205\n",
      "weighted avg       0.83      0.44      0.55       205\n",
      "\n"
     ]
    }
   ],
   "source": [
    "# Get predicted probabilities\n",
    "y_pred_probs = model.predict_proba(X_test_scaled)[:, 1]  # Probabilities for default (class 1)\n",
    "\n",
    "# Adjust threshold\n",
    "threshold = 0.35  # Lowering the default threshold\n",
    "y_pred_adjusted = (y_pred_probs >= threshold).astype(int)\n",
    "\n",
    "# Evaluate adjusted predictions\n",
    "accuracy_adj = accuracy_score(y_test, y_pred_adjusted)\n",
    "classification_rep_adj = classification_report(y_test, y_pred_adjusted)\n",
    "\n",
    "print(f\"Adjusted Threshold Accuracy: {accuracy_adj:.2f}\")\n",
    "print(\"Classification Report after Threshold Adjustment:\\n\", classification_rep_adj)\n"
   ]
  },
  {
   "cell_type": "code",
   "execution_count": 12,
   "id": "51c6b727-32cc-48c5-91f8-3ab8069cb9ac",
   "metadata": {},
   "outputs": [
    {
     "name": "stdout",
     "output_type": "stream",
     "text": [
      "Random Forest Accuracy: 0.82\n",
      "Random Forest Classification Report:\n",
      "               precision    recall  f1-score   support\n",
      "\n",
      "           0       0.92      0.88      0.90       187\n",
      "           1       0.12      0.17      0.14        18\n",
      "\n",
      "    accuracy                           0.82       205\n",
      "   macro avg       0.52      0.52      0.52       205\n",
      "weighted avg       0.85      0.82      0.83       205\n",
      "\n"
     ]
    }
   ],
   "source": [
    "from sklearn.ensemble import RandomForestClassifier\n",
    "\n",
    "# Train a Random Forest model\n",
    "rf_model = RandomForestClassifier(n_estimators=100, class_weight=\"balanced\", random_state=42)\n",
    "rf_model.fit(X_train_resampled, y_train_resampled)\n",
    "\n",
    "# Make predictions\n",
    "y_pred_rf = rf_model.predict(X_test_scaled)\n",
    "\n",
    "# Evaluate Random Forest\n",
    "accuracy_rf = accuracy_score(y_test, y_pred_rf)\n",
    "classification_rep_rf = classification_report(y_test, y_pred_rf)\n",
    "\n",
    "print(f\"Random Forest Accuracy: {accuracy_rf:.2f}\")\n",
    "print(\"Random Forest Classification Report:\\n\", classification_rep_rf)\n"
   ]
  },
  {
   "cell_type": "code",
   "execution_count": 13,
   "id": "0e1c7ee7-bf9d-4637-baee-3831abdcc229",
   "metadata": {
    "scrolled": true
   },
   "outputs": [
    {
     "name": "stdout",
     "output_type": "stream",
     "text": [
      "Optimized Threshold: 0.04\n",
      "Optimized Threshold Accuracy: 0.09\n",
      "Classification Report after Optimized Threshold Adjustment:\n",
      "               precision    recall  f1-score   support\n",
      "\n",
      "           0       0.00      0.00      0.00       187\n",
      "           1       0.09      1.00      0.16        18\n",
      "\n",
      "    accuracy                           0.09       205\n",
      "   macro avg       0.04      0.50      0.08       205\n",
      "weighted avg       0.01      0.09      0.01       205\n",
      "\n"
     ]
    },
    {
     "name": "stderr",
     "output_type": "stream",
     "text": [
      "C:\\ProgramData\\anaconda3\\Lib\\site-packages\\sklearn\\metrics\\_classification.py:1531: UndefinedMetricWarning: Precision is ill-defined and being set to 0.0 in labels with no predicted samples. Use `zero_division` parameter to control this behavior.\n",
      "  _warn_prf(average, modifier, f\"{metric.capitalize()} is\", len(result))\n",
      "C:\\ProgramData\\anaconda3\\Lib\\site-packages\\sklearn\\metrics\\_classification.py:1531: UndefinedMetricWarning: Precision is ill-defined and being set to 0.0 in labels with no predicted samples. Use `zero_division` parameter to control this behavior.\n",
      "  _warn_prf(average, modifier, f\"{metric.capitalize()} is\", len(result))\n",
      "C:\\ProgramData\\anaconda3\\Lib\\site-packages\\sklearn\\metrics\\_classification.py:1531: UndefinedMetricWarning: Precision is ill-defined and being set to 0.0 in labels with no predicted samples. Use `zero_division` parameter to control this behavior.\n",
      "  _warn_prf(average, modifier, f\"{metric.capitalize()} is\", len(result))\n"
     ]
    }
   ],
   "source": [
    "import numpy as np\n",
    "from sklearn.metrics import precision_recall_curve\n",
    "\n",
    "# Get predicted probabilities for Class 1 (default)\n",
    "y_pred_probs = model.predict_proba(X_test_scaled)[:, 1]\n",
    "\n",
    "# Get precision-recall values\n",
    "precisions, recalls, thresholds = precision_recall_curve(y_test, y_pred_probs)\n",
    "\n",
    "# Find the best threshold with a balance of precision and recall\n",
    "best_threshold = thresholds[np.argmax(recalls - precisions)]  # Maximize recall while limiting false positives\n",
    "\n",
    "# Apply new threshold\n",
    "y_pred_adjusted = (y_pred_probs >= best_threshold).astype(int)\n",
    "\n",
    "# Evaluate model again\n",
    "accuracy_adj = accuracy_score(y_test, y_pred_adjusted)\n",
    "classification_rep_adj = classification_report(y_test, y_pred_adjusted)\n",
    "\n",
    "print(f\"Optimized Threshold: {best_threshold:.2f}\")\n",
    "print(f\"Optimized Threshold Accuracy: {accuracy_adj:.2f}\")\n",
    "print(\"Classification Report after Optimized Threshold Adjustment:\\n\", classification_rep_adj)\n"
   ]
  },
  {
   "cell_type": "markdown",
   "id": "17aacee9-d0e2-4757-b7df-bbf43a9cd581",
   "metadata": {},
   "source": [
    "# Fine tune random forest parameters"
   ]
  },
  {
   "cell_type": "code",
   "execution_count": 16,
   "id": "e5df7c91-4f5c-4b6a-8468-577d6c689a75",
   "metadata": {},
   "outputs": [
    {
     "name": "stdout",
     "output_type": "stream",
     "text": [
      "Tuned Random Forest Accuracy: 0.76\n",
      "Tuned Random Forest Classification Report:\n",
      "               precision    recall  f1-score   support\n",
      "\n",
      "           0       0.92      0.81      0.86       187\n",
      "           1       0.10      0.22      0.14        18\n",
      "\n",
      "    accuracy                           0.76       205\n",
      "   macro avg       0.51      0.51      0.50       205\n",
      "weighted avg       0.84      0.76      0.79       205\n",
      "\n"
     ]
    }
   ],
   "source": [
    "from sklearn.model_selection import GridSearchCV\n",
    "from sklearn.ensemble import RandomForestClassifier\n",
    "\n",
    "# Define parameter grid for tuning\n",
    "param_grid = {\n",
    "    'n_estimators': [50, 100, 200],\n",
    "    'max_depth': [5, 10, None],\n",
    "    'min_samples_split': [2, 5, 10],\n",
    "    'min_samples_leaf': [1, 2, 4],\n",
    "    'class_weight': ['balanced']\n",
    "}\n",
    "\n",
    "# Perform Grid Search\n",
    "rf_tuned = GridSearchCV(RandomForestClassifier(random_state=42), param_grid, cv=3, scoring='recall')\n",
    "rf_tuned.fit(X_train_resampled, y_train_resampled)\n",
    "\n",
    "# Best Model\n",
    "best_rf = rf_tuned.best_estimator_\n",
    "\n",
    "# Make predictions\n",
    "y_pred_rf_tuned = best_rf.predict(X_test_scaled)\n",
    "\n",
    "# Evaluate tuned model\n",
    "accuracy_rf_tuned = accuracy_score(y_test, y_pred_rf_tuned)\n",
    "classification_rep_rf_tuned = classification_report(y_test, y_pred_rf_tuned)\n",
    "\n",
    "print(f\"Tuned Random Forest Accuracy: {accuracy_rf_tuned:.2f}\")\n",
    "print(\"Tuned Random Forest Classification Report:\\n\", classification_rep_rf_tuned)\n"
   ]
  },
  {
   "cell_type": "markdown",
   "id": "136a4971-97fe-4043-88f9-ebb317f4ed50",
   "metadata": {},
   "source": [
    "# Run XGboost model"
   ]
  },
  {
   "cell_type": "code",
   "execution_count": 15,
   "id": "c8650529-856d-4391-9da6-073d598b57f3",
   "metadata": {},
   "outputs": [
    {
     "name": "stdout",
     "output_type": "stream",
     "text": [
      "XGBoost Accuracy: 0.79\n",
      "XGBoost Classification Report:\n",
      "               precision    recall  f1-score   support\n",
      "\n",
      "           0       0.92      0.84      0.88       187\n",
      "           1       0.12      0.22      0.15        18\n",
      "\n",
      "    accuracy                           0.79       205\n",
      "   macro avg       0.52      0.53      0.52       205\n",
      "weighted avg       0.85      0.79      0.81       205\n",
      "\n"
     ]
    },
    {
     "name": "stderr",
     "output_type": "stream",
     "text": [
      "C:\\Users\\SeanD\\AppData\\Roaming\\Python\\Python312\\site-packages\\xgboost\\core.py:158: UserWarning: [10:48:02] WARNING: C:\\buildkite-agent\\builds\\buildkite-windows-cpu-autoscaling-group-i-08cbc0333d8d4aae1-1\\xgboost\\xgboost-ci-windows\\src\\learner.cc:740: \n",
      "Parameters: { \"use_label_encoder\" } are not used.\n",
      "\n",
      "  warnings.warn(smsg, UserWarning)\n"
     ]
    }
   ],
   "source": [
    "from xgboost import XGBClassifier\n",
    "\n",
    "# Train an XGBoost model with class balancing\n",
    "xgb_model = XGBClassifier(scale_pos_weight=len(y_train_resampled) / sum(y_train_resampled), use_label_encoder=False, eval_metric='logloss')\n",
    "xgb_model.fit(X_train_resampled, y_train_resampled)\n",
    "\n",
    "# Make predictions\n",
    "y_pred_xgb = xgb_model.predict(X_test_scaled)\n",
    "\n",
    "# Evaluate XGBoost model\n",
    "accuracy_xgb = accuracy_score(y_test, y_pred_xgb)\n",
    "classification_rep_xgb = classification_report(y_test, y_pred_xgb)\n",
    "\n",
    "print(f\"XGBoost Accuracy: {accuracy_xgb:.2f}\")\n",
    "print(\"XGBoost Classification Report:\\n\", classification_rep_xgb)\n"
   ]
  },
  {
   "cell_type": "code",
   "execution_count": 21,
   "id": "6cb70a27-ca85-4a39-a90a-0759f99e7ce4",
   "metadata": {},
   "outputs": [
    {
     "name": "stdout",
     "output_type": "stream",
     "text": [
      "Reduced Scale Pos Weight XGBoost Accuracy: 0.73\n",
      "Reduced Scale Pos Weight XGBoost Classification Report:\n",
      "               precision    recall  f1-score   support\n",
      "\n",
      "           0       0.92      0.78      0.84       187\n",
      "           1       0.11      0.28      0.15        18\n",
      "\n",
      "    accuracy                           0.73       205\n",
      "   macro avg       0.51      0.53      0.50       205\n",
      "weighted avg       0.85      0.73      0.78       205\n",
      "\n"
     ]
    },
    {
     "name": "stderr",
     "output_type": "stream",
     "text": [
      "C:\\Users\\SeanD\\AppData\\Roaming\\Python\\Python312\\site-packages\\xgboost\\core.py:158: UserWarning: [10:55:01] WARNING: C:\\buildkite-agent\\builds\\buildkite-windows-cpu-autoscaling-group-i-08cbc0333d8d4aae1-1\\xgboost\\xgboost-ci-windows\\src\\learner.cc:740: \n",
      "Parameters: { \"use_label_encoder\" } are not used.\n",
      "\n",
      "  warnings.warn(smsg, UserWarning)\n"
     ]
    }
   ],
   "source": [
    "xgb_tuned = XGBClassifier(scale_pos_weight=2, max_depth=6, learning_rate=0.1, use_label_encoder=False, eval_metric='logloss', random_state=42, min_child_weight=3)\n",
    "xgb_tuned.fit(X_train_resampled, y_train_resampled)\n",
    "\n",
    "y_pred_xgb_tuned = xgb_tuned.predict(X_test_scaled)\n",
    "\n",
    "accuracy_xgb_tuned = accuracy_score(y_test, y_pred_xgb_tuned)\n",
    "classification_rep_xgb_tuned = classification_report(y_test, y_pred_xgb_tuned)\n",
    "\n",
    "print(f\"Reduced Scale Pos Weight XGBoost Accuracy: {accuracy_xgb_tuned:.2f}\")\n",
    "print(\"Reduced Scale Pos Weight XGBoost Classification Report:\\n\", classification_rep_xgb_tuned)\n"
   ]
  },
  {
   "cell_type": "code",
   "execution_count": 22,
   "id": "f31a78cd-7a1e-4cf3-ac3f-6aba7558d6b9",
   "metadata": {},
   "outputs": [
    {
     "name": "stdout",
     "output_type": "stream",
     "text": [
      "Adjusted Threshold XGBoost Accuracy: 0.67\n",
      "Classification Report after Adjusted Threshold:\n",
      "               precision    recall  f1-score   support\n",
      "\n",
      "           0       0.92      0.70      0.79       187\n",
      "           1       0.11      0.39      0.17        18\n",
      "\n",
      "    accuracy                           0.67       205\n",
      "   macro avg       0.52      0.54      0.48       205\n",
      "weighted avg       0.85      0.67      0.74       205\n",
      "\n"
     ]
    }
   ],
   "source": [
    "# Get predicted probabilities\n",
    "y_pred_probs = xgb_tuned.predict_proba(X_test_scaled)[:, 1]\n",
    "\n",
    "# Adjust threshold to 0.35 (instead of default 0.5)\n",
    "threshold = 0.35\n",
    "y_pred_adjusted = (y_pred_probs >= threshold).astype(int)\n",
    "\n",
    "# Evaluate adjusted predictions\n",
    "accuracy_adj = accuracy_score(y_test, y_pred_adjusted)\n",
    "classification_rep_adj = classification_report(y_test, y_pred_adjusted)\n",
    "\n",
    "print(f\"Adjusted Threshold XGBoost Accuracy: {accuracy_adj:.2f}\")\n",
    "print(\"Classification Report after Adjusted Threshold:\\n\", classification_rep_adj)\n"
   ]
  },
  {
   "cell_type": "markdown",
   "id": "74da0721-8c27-41b2-9c91-c8a28174254c",
   "metadata": {},
   "source": [
    "Reduced Scale Pos Weight XGBoost Accuracy accuracy yields the best results. Recalled 28% of defaults and model still yields 73% accuracy."
   ]
  },
  {
   "cell_type": "markdown",
   "id": "8bd20abc-ad64-4882-8578-e26434b5541a",
   "metadata": {},
   "source": [
    "# Convert to Credit Score"
   ]
  },
  {
   "cell_type": "code",
   "execution_count": 25,
   "id": "a3d438ab-7aca-4833-afb9-deb11dc80513",
   "metadata": {},
   "outputs": [
    {
     "data": {
      "text/html": [
       "<div>\n",
       "<style scoped>\n",
       "    .dataframe tbody tr th:only-of-type {\n",
       "        vertical-align: middle;\n",
       "    }\n",
       "\n",
       "    .dataframe tbody tr th {\n",
       "        vertical-align: top;\n",
       "    }\n",
       "\n",
       "    .dataframe thead th {\n",
       "        text-align: right;\n",
       "    }\n",
       "</style>\n",
       "<table border=\"1\" class=\"dataframe\">\n",
       "  <thead>\n",
       "    <tr style=\"text-align: right;\">\n",
       "      <th></th>\n",
       "      <th>Predicted Default Probability</th>\n",
       "      <th>Credit Score (0-1000)</th>\n",
       "    </tr>\n",
       "  </thead>\n",
       "  <tbody>\n",
       "    <tr>\n",
       "      <th>677</th>\n",
       "      <td>0.033629</td>\n",
       "      <td>966</td>\n",
       "    </tr>\n",
       "    <tr>\n",
       "      <th>467</th>\n",
       "      <td>0.854320</td>\n",
       "      <td>146</td>\n",
       "    </tr>\n",
       "    <tr>\n",
       "      <th>573</th>\n",
       "      <td>0.008541</td>\n",
       "      <td>991</td>\n",
       "    </tr>\n",
       "    <tr>\n",
       "      <th>40</th>\n",
       "      <td>0.006207</td>\n",
       "      <td>994</td>\n",
       "    </tr>\n",
       "    <tr>\n",
       "      <th>797</th>\n",
       "      <td>0.894557</td>\n",
       "      <td>105</td>\n",
       "    </tr>\n",
       "    <tr>\n",
       "      <th>761</th>\n",
       "      <td>0.888348</td>\n",
       "      <td>112</td>\n",
       "    </tr>\n",
       "    <tr>\n",
       "      <th>577</th>\n",
       "      <td>0.502363</td>\n",
       "      <td>498</td>\n",
       "    </tr>\n",
       "    <tr>\n",
       "      <th>946</th>\n",
       "      <td>0.076432</td>\n",
       "      <td>924</td>\n",
       "    </tr>\n",
       "    <tr>\n",
       "      <th>105</th>\n",
       "      <td>0.005625</td>\n",
       "      <td>994</td>\n",
       "    </tr>\n",
       "    <tr>\n",
       "      <th>923</th>\n",
       "      <td>0.025866</td>\n",
       "      <td>974</td>\n",
       "    </tr>\n",
       "    <tr>\n",
       "      <th>486</th>\n",
       "      <td>0.006403</td>\n",
       "      <td>994</td>\n",
       "    </tr>\n",
       "    <tr>\n",
       "      <th>97</th>\n",
       "      <td>0.001219</td>\n",
       "      <td>999</td>\n",
       "    </tr>\n",
       "    <tr>\n",
       "      <th>870</th>\n",
       "      <td>0.250070</td>\n",
       "      <td>750</td>\n",
       "    </tr>\n",
       "    <tr>\n",
       "      <th>136</th>\n",
       "      <td>0.111956</td>\n",
       "      <td>888</td>\n",
       "    </tr>\n",
       "    <tr>\n",
       "      <th>801</th>\n",
       "      <td>0.213504</td>\n",
       "      <td>786</td>\n",
       "    </tr>\n",
       "    <tr>\n",
       "      <th>838</th>\n",
       "      <td>0.455177</td>\n",
       "      <td>545</td>\n",
       "    </tr>\n",
       "    <tr>\n",
       "      <th>374</th>\n",
       "      <td>0.025442</td>\n",
       "      <td>975</td>\n",
       "    </tr>\n",
       "    <tr>\n",
       "      <th>554</th>\n",
       "      <td>0.001928</td>\n",
       "      <td>998</td>\n",
       "    </tr>\n",
       "    <tr>\n",
       "      <th>525</th>\n",
       "      <td>0.021693</td>\n",
       "      <td>978</td>\n",
       "    </tr>\n",
       "    <tr>\n",
       "      <th>963</th>\n",
       "      <td>0.181779</td>\n",
       "      <td>818</td>\n",
       "    </tr>\n",
       "  </tbody>\n",
       "</table>\n",
       "</div>"
      ],
      "text/plain": [
       "     Predicted Default Probability  Credit Score (0-1000)\n",
       "677                       0.033629                    966\n",
       "467                       0.854320                    146\n",
       "573                       0.008541                    991\n",
       "40                        0.006207                    994\n",
       "797                       0.894557                    105\n",
       "761                       0.888348                    112\n",
       "577                       0.502363                    498\n",
       "946                       0.076432                    924\n",
       "105                       0.005625                    994\n",
       "923                       0.025866                    974\n",
       "486                       0.006403                    994\n",
       "97                        0.001219                    999\n",
       "870                       0.250070                    750\n",
       "136                       0.111956                    888\n",
       "801                       0.213504                    786\n",
       "838                       0.455177                    545\n",
       "374                       0.025442                    975\n",
       "554                       0.001928                    998\n",
       "525                       0.021693                    978\n",
       "963                       0.181779                    818"
      ]
     },
     "execution_count": 25,
     "metadata": {},
     "output_type": "execute_result"
    }
   ],
   "source": [
    "# Get predicted default probabilities from the trained XGBoost model\n",
    "y_pred_probs = xgb_tuned.predict_proba(X_test_scaled)[:, 1]  # Probability of default (class 1)\n",
    "\n",
    "# Convert probabilities to a credit score (higher probability = lower score)\n",
    "credit_scores = np.round(1000 * (1 - y_pred_probs)).astype(int)  # Scale to 0-1000 range\n",
    "\n",
    "# Add credit scores to the test dataset for reference\n",
    "X_test_with_scores = X_test.copy()\n",
    "X_test_with_scores['Predicted Default Probability'] = y_pred_probs\n",
    "X_test_with_scores['Credit Score (0-1000)'] = credit_scores\n",
    "\n",
    "# If using Jupyter Notebook, display as a DataFrame\n",
    "X_test_with_scores[['Predicted Default Probability', 'Credit Score (0-1000)']].head(20)"
   ]
  },
  {
   "cell_type": "code",
   "execution_count": 26,
   "id": "906ce138-a21f-49fa-812c-fc8607a62d1e",
   "metadata": {},
   "outputs": [
    {
     "data": {
      "image/png": "[encoded data removed]",
      "text/plain": [
       "<Figure size 800x500 with 1 Axes>"
      ]
     },
     "metadata": {},
     "output_type": "display_data"
    }
   ],
   "source": [
    "import matplotlib.pyplot as plt\n",
    "\n",
    "# Plot the distribution of credit scores\n",
    "plt.figure(figsize=(8,5))\n",
    "plt.hist(credit_scores, bins=20, edgecolor='black')\n",
    "plt.xlabel(\"Credit Score (0-1000)\")\n",
    "plt.ylabel(\"Number of Applicants\")\n",
    "plt.title(\"Distribution of Credit Scores\")\n",
    "plt.show()\n"
   ]
  },
  {
   "cell_type": "code",
   "execution_count": 27,
   "id": "509a8fe8-a3fd-4ffc-93e3-c72cfe08e29b",
   "metadata": {},
   "outputs": [],
   "source": [
    "import numpy as np\n",
    "\n",
    "def predict_credit_score(model, scaler, applicant_data):\n",
    "    \"\"\"\n",
    "    Predicts the credit score (0-1000) for a new applicant.\n",
    "    \n",
    "    Parameters:\n",
    "    - model: Trained XGBoost model\n",
    "    - scaler: StandardScaler used to transform the training data\n",
    "    - applicant_data: Dictionary containing applicant features\n",
    "    \n",
    "    Returns:\n",
    "    - Credit Score (0-1000)\n",
    "    \"\"\"\n",
    "\n",
    "    # Define the expected feature order based on training data\n",
    "    feature_order = ['age', 'income', 'share', 'expenditure', 'owner', 'selfemp', \n",
    "                     'dependents', 'months', 'majorcards', 'active']\n",
    "\n",
    "    # Convert dictionary to a NumPy array (keeping the correct feature order)\n",
    "    input_features = np.array([[applicant_data[feature] for feature in feature_order]])\n",
    "\n",
    "    # Scale numerical features (skip binary categorical variables)\n",
    "    continuous_columns = ['age', 'income', 'share', 'expenditure', 'dependents', 'months', 'active']\n",
    "    input_features[:, [feature_order.index(col) for col in continuous_columns]] = scaler.transform(input_features[:, [feature_order.index(col) for col in continuous_columns]])\n",
    "\n",
    "    # Get the default probability from the model\n",
    "    default_prob = model.predict_proba(input_features)[:, 1][0]\n",
    "\n",
    "    # Convert probability to credit score (0-1000 scale)\n",
    "    credit_score = round(1000 * (1 - default_prob))\n",
    "\n",
    "    return credit_score\n"
   ]
  },
  {
   "cell_type": "code",
   "execution_count": 48,
   "id": "3ea341a8-c169-406e-a0c2-298d9adf998e",
   "metadata": {},
   "outputs": [
    {
     "name": "stdout",
     "output_type": "stream",
     "text": [
      "Predicted Credit Score: 661/1000\n"
     ]
    },
    {
     "name": "stderr",
     "output_type": "stream",
     "text": [
      "C:\\ProgramData\\anaconda3\\Lib\\site-packages\\sklearn\\base.py:493: UserWarning: X does not have valid feature names, but StandardScaler was fitted with feature names\n",
      "  warnings.warn(\n"
     ]
    }
   ],
   "source": [
    "# Example applicant (values should be similar to the dataset's scale)\n",
    "new_applicant = {\n",
    "    'age': 18,\n",
    "    'income': 0,  # Scaled (originally in 10,000s)\n",
    "    'share': 1.9,  # Credit card expenditure to income ratio\n",
    "    'expenditure': 1000000,  # Monthly spending\n",
    "    'owner': 0,  # 1 = Owns home, 0 = Rents\n",
    "    'selfemp': 1,  # 1 = Self-employed, 0 = Not self-employed\n",
    "    'dependents': 2,\n",
    "    'months': 100,  # Months at current address\n",
    "    'majorcards': 5,  # Number of major credit cards held\n",
    "    'active': 20  # Number of active credit accounts\n",
    "}\n",
    "\n",
    "# Get the predicted credit score for the new applicant\n",
    "predicted_score = predict_credit_score(xgb_tuned, scaler, new_applicant)\n",
    "\n",
    "# Apply penalties **after** computing the score\n",
    "if new_applicant['share'] > 1.0:\n",
    "    predicted_score -= 100  # High utilization penalty\n",
    "if new_applicant['expenditure'] > 50000:\n",
    "    predicted_score -= 100  # Unusually high spending penalty\n",
    "if new_applicant['active'] > 10:\n",
    "    predicted_score -= 50  # Too many open accounts\n",
    "\n",
    "# Ensure the score stays within 0-1000 range\n",
    "predicted_score = max(0, min(predicted_score, 1000))\n",
    "\n",
    "print(f\"Predicted Credit Score: {predicted_score}/1000\")\n"
   ]
  },
  {
   "cell_type": "code",
   "execution_count": null,
   "id": "a5955b64-18d2-4012-af2a-c2ce9340d7b5",
   "metadata": {},
   "outputs": [],
   "source": []
  }
 ],
 "metadata": {
  "kernelspec": {
   "display_name": "Python 3 (ipykernel)",
   "language": "python",
   "name": "python3"
  },
  "language_info": {
   "codemirror_mode": {
    "name": "ipython",
    "version": 3
   },
   "file_extension": ".py",
   "mimetype": "text/x-python",
   "name": "python",
   "nbconvert_exporter": "python",
   "pygments_lexer": "ipython3",
   "version": "3.12.7"
  }
 },
 "nbformat": 4,
 "nbformat_minor": 5
}
